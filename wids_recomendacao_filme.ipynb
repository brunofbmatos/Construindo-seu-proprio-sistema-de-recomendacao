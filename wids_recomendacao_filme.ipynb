{
 "cells": [
  {
   "cell_type": "code",
   "execution_count": null,
   "metadata": {},
   "outputs": [],
   "source": [
    "# bibliotecas \n",
    "import pandas as pd\n",
    "import numpy as np\n",
    "from math import sqrt"
   ]
  },
  {
   "cell_type": "markdown",
   "metadata": {},
   "source": [
    "#### 0 - Explorando os dados"
   ]
  },
  {
   "cell_type": "code",
   "execution_count": null,
   "metadata": {},
   "outputs": [],
   "source": [
    "filmes = pd.read_csv(r'C:\\Users\\Marianna\\Documents\\Curso\\Sistema de Recomendacao\\dataset\\movies.csv')\n",
    "filmes.head()"
   ]
  },
  {
   "cell_type": "code",
   "execution_count": null,
   "metadata": {},
   "outputs": [],
   "source": [
    "filmes = filmes[['movieId', 'title']]\n",
    "filmes.columns = ['id_filme', 'titulo']\n",
    "filmes"
   ]
  },
  {
   "cell_type": "code",
   "execution_count": null,
   "metadata": {},
   "outputs": [],
   "source": [
    "# alguns filmes com ids diferente\n",
    "filmes.titulo.value_counts() "
   ]
  },
  {
   "cell_type": "code",
   "execution_count": null,
   "metadata": {},
   "outputs": [],
   "source": [
    "# numero de filmes na base\n",
    "filmes.titulo.unique().shape[0]"
   ]
  },
  {
   "cell_type": "code",
   "execution_count": null,
   "metadata": {},
   "outputs": [],
   "source": [
    "lista_filmes = ['Toy Story (1995)', 'Lord of the Rings: The Fellowship of the Ring, The (2001)', 'Mortal Kombat (1995)','Pocahontas (1995)','Star Wars: Episode VI - Return of the Jedi (1983)','Brazil (1985)', 'Star Wars: Episode V - The Empire Strikes Back (1980)']"
   ]
  },
  {
   "cell_type": "code",
   "execution_count": null,
   "metadata": {},
   "outputs": [],
   "source": [
    "filmes = filmes.loc[filmes.titulo.isin(lista_filmes)]\n",
    "filmes"
   ]
  },
  {
   "cell_type": "code",
   "execution_count": null,
   "metadata": {},
   "outputs": [],
   "source": [
    "avaliacoes = pd.read_csv(r'C:\\Users\\Marianna\\Documents\\Curso\\Sistema de Recomendacao\\dataset\\ratings.csv')\n",
    "avaliacoes.head()"
   ]
  },
  {
   "cell_type": "code",
   "execution_count": null,
   "metadata": {},
   "outputs": [],
   "source": [
    "avaliacoes = avaliacoes[['userId', 'movieId', 'rating']]\n",
    "avaliacoes.columns = ['id_usuario', 'id_filme', 'nota_filme']\n",
    "avaliacoes.head()"
   ]
  },
  {
   "cell_type": "code",
   "execution_count": null,
   "metadata": {},
   "outputs": [],
   "source": [
    "avaliacoes = avaliacoes.merge(filmes, on='id_filme')\n",
    "avaliacoes.head()"
   ]
  },
  {
   "cell_type": "code",
   "execution_count": null,
   "metadata": {},
   "outputs": [],
   "source": [
    "# tamanho da tabela\n",
    "avaliacoes.shape"
   ]
  },
  {
   "cell_type": "code",
   "execution_count": null,
   "metadata": {},
   "outputs": [],
   "source": [
    "# numero de usuario\n",
    "avaliacoes.id_usuario.unique().shape[0]"
   ]
  },
  {
   "cell_type": "code",
   "execution_count": null,
   "metadata": {},
   "outputs": [],
   "source": [
    "# numero de filmes\n",
    "avaliacoes.id_filme.unique().shape[0]"
   ]
  },
  {
   "cell_type": "code",
   "execution_count": null,
   "metadata": {},
   "outputs": [],
   "source": [
    "# numero de classificacao por usuario\n",
    "avaliacoes.id_usuario.value_counts()"
   ]
  },
  {
   "cell_type": "code",
   "execution_count": null,
   "metadata": {},
   "outputs": [],
   "source": [
    "# nota minima e maxima\n",
    "avaliacoes.nota_filme.min(), avaliacoes.nota_filme.max()"
   ]
  },
  {
   "cell_type": "code",
   "execution_count": null,
   "metadata": {},
   "outputs": [],
   "source": [
    "# reducao da quantidade de usuario\n",
    "avaliacoes = avaliacoes.loc[avaliacoes.id_usuario.isin([1,7,371, 608,610])]\n",
    "avaliacoes"
   ]
  },
  {
   "cell_type": "code",
   "execution_count": null,
   "metadata": {},
   "outputs": [],
   "source": [
    "# guardando a informação de lista de usuarios\n",
    "lista_usuario = list(avaliacoes.id_usuario.unique())\n",
    "lista_usuario"
   ]
  },
  {
   "cell_type": "markdown",
   "metadata": {},
   "source": [
    "#### 1 - Matriz de Score (usuario x item)"
   ]
  },
  {
   "cell_type": "code",
   "execution_count": null,
   "metadata": {},
   "outputs": [],
   "source": [
    "# matriz de avaliacoes usuario x itens\n",
    "scores = avaliacoes.pivot_table(index = ['id_usuario'], values = ['nota_filme'], columns = ['titulo'])\n",
    "scores.columns = scores.columns.droplevel(0)\n",
    "scores = scores.rename_axis(None, axis=1)\n",
    "scores.rename(columns={'':'id_usuario'}, inplace=True)\n",
    "scores"
   ]
  },
  {
   "cell_type": "code",
   "execution_count": null,
   "metadata": {},
   "outputs": [],
   "source": [
    "scores = scores.fillna(0)\n",
    "scores"
   ]
  },
  {
   "cell_type": "code",
   "execution_count": null,
   "metadata": {},
   "outputs": [],
   "source": [
    "# guardando a informação de lista de itens\n",
    "lista_itens = list(scores.columns)\n",
    "lista_itens"
   ]
  },
  {
   "cell_type": "code",
   "execution_count": null,
   "metadata": {},
   "outputs": [],
   "source": [
    "matriz_scores = scores.to_numpy()\n",
    "matriz_scores"
   ]
  },
  {
   "cell_type": "markdown",
   "metadata": {},
   "source": [
    "#### 2 - Matriz de similaridade (usuario x usuario)"
   ]
  },
  {
   "cell_type": "code",
   "execution_count": null,
   "metadata": {},
   "outputs": [],
   "source": [
    "def distancia(a, b):\n",
    "    zip_b = zip(*b)\n",
    "    resultado = []\n",
    "    quadrado_diferenca = 0\n",
    "\n",
    "    for row_a in a:\n",
    "        for col_b in zip_b:\n",
    "            soma = 0\n",
    "            for nota_a, nota_b in zip(row_a, col_b):\n",
    "                if (nota_a !=0) & (nota_b !=0):                   \n",
    "                    quadrado_diferenca = pow(nota_b-nota_a, 2)\n",
    "                    soma += quadrado_diferenca\n",
    "            if soma > 0:\n",
    "                d = 1/(1 + sqrt(soma))\n",
    "            if soma == 0:\n",
    "                d = 1\n",
    "            resultado.append(d)\n",
    "    return resultado                                                       "
   ]
  },
  {
   "cell_type": "code",
   "execution_count": null,
   "metadata": {},
   "outputs": [],
   "source": [
    "#teste com um usuario\n",
    "score_usuario_1 = scores.loc[[scores.index[0]]].to_numpy()\n",
    "\n",
    "sim_usu1_demais = distancia(score_usuario_1, matriz_scores.T)     \n",
    "sim_usu1_demais"
   ]
  },
  {
   "cell_type": "code",
   "execution_count": null,
   "metadata": {},
   "outputs": [],
   "source": [
    "def similaridade(scores):\n",
    "    i = 0\n",
    "    for usuario in list(scores.index):\n",
    "        scores_usuario = scores.loc[[usuario]].to_numpy()\n",
    "        \n",
    "        matriz_scores = scores.to_numpy()\n",
    "        \n",
    "        resultado = distancia(scores_usuario, matriz_scores.T)     \n",
    "        if i == 0:\n",
    "            base_similaridade = pd.DataFrame(resultado, index = list(scores.index), columns = [usuario])\n",
    "        else:\n",
    "            temp = pd.DataFrame(resultado, index = list(scores.index), columns = [usuario])\n",
    "            base_similaridade = pd.concat([base_similaridade, temp], axis=1)\n",
    "        i = i + 1\n",
    "    return base_similaridade"
   ]
  },
  {
   "cell_type": "code",
   "execution_count": null,
   "metadata": {},
   "outputs": [],
   "source": [
    "base_similaridade = similaridade(scores)\n",
    "base_similaridade"
   ]
  },
  {
   "cell_type": "code",
   "execution_count": null,
   "metadata": {},
   "outputs": [],
   "source": [
    "matriz_similaridade = base_similaridade.to_numpy()\n",
    "# resolvendo o problema da diagonal principal\n",
    "np.fill_diagonal(matriz_similaridade, 0)\n",
    "matriz_similaridade"
   ]
  },
  {
   "cell_type": "markdown",
   "metadata": {},
   "source": [
    "#### 3 - Recomendação"
   ]
  },
  {
   "cell_type": "code",
   "execution_count": null,
   "metadata": {},
   "outputs": [],
   "source": [
    "matriz_scores"
   ]
  },
  {
   "cell_type": "code",
   "execution_count": null,
   "metadata": {},
   "outputs": [],
   "source": [
    "soma_similares = np.dot(matriz_similaridade, matriz_scores)\n",
    "soma_similares"
   ]
  },
  {
   "cell_type": "code",
   "execution_count": null,
   "metadata": {},
   "outputs": [],
   "source": [
    "matriz_scores_aux = np.copy(matriz_scores)    \n",
    "matriz_scores_aux[matriz_scores > 0] = 1\n",
    "matriz_scores_aux"
   ]
  },
  {
   "cell_type": "code",
   "execution_count": null,
   "metadata": {},
   "outputs": [],
   "source": [
    "soma_pesos = np.dot(matriz_similaridade, matriz_scores_aux)\n",
    "soma_pesos"
   ]
  },
  {
   "cell_type": "code",
   "execution_count": null,
   "metadata": {},
   "outputs": [],
   "source": [
    "recomendacao = np.around(np.divide(soma_similares, soma_pesos), decimals=2)\n",
    "recomendacao"
   ]
  },
  {
   "cell_type": "code",
   "execution_count": null,
   "metadata": {},
   "outputs": [],
   "source": [
    "# selecionar somente as notas q foram preditas\n",
    "recomendacao[matriz_scores_aux == 1] = 0\n",
    "recomendacao"
   ]
  },
  {
   "cell_type": "code",
   "execution_count": null,
   "metadata": {},
   "outputs": [],
   "source": [
    "recomendacao = pd.DataFrame(recomendacao, index = lista_usuario, columns = lista_itens)\n",
    "recomendacao"
   ]
  },
  {
   "cell_type": "code",
   "execution_count": null,
   "metadata": {},
   "outputs": [],
   "source": [
    "# trazendo as notas ja classificadas\n",
    "recomendacao[matriz_scores_aux == 1] = matriz_scores\n",
    "recomendacao"
   ]
  },
  {
   "cell_type": "code",
   "execution_count": null,
   "metadata": {},
   "outputs": [],
   "source": []
  },
  {
   "cell_type": "code",
   "execution_count": null,
   "metadata": {},
   "outputs": [],
   "source": []
  },
  {
   "cell_type": "code",
   "execution_count": null,
   "metadata": {},
   "outputs": [],
   "source": []
  },
  {
   "cell_type": "code",
   "execution_count": null,
   "metadata": {},
   "outputs": [],
   "source": []
  },
  {
   "cell_type": "code",
   "execution_count": null,
   "metadata": {},
   "outputs": [],
   "source": []
  },
  {
   "cell_type": "markdown",
   "metadata": {},
   "source": [
    "#### Metodo alternativo do Passo 2 : Matriz de similaridade (para gerar similaridade entre todos os usuarios da base)"
   ]
  },
  {
   "cell_type": "code",
   "execution_count": null,
   "metadata": {},
   "outputs": [],
   "source": [
    "#metodo alternativo para rodar todo o conjunto de dados\n",
    "from sklearn.metrics.pairwise import pairwise_distances \n",
    "matriz_similaridade = pairwise_distances(matriz_scores, metric='cosine')\n",
    "matriz_similaridade"
   ]
  },
  {
   "cell_type": "code",
   "execution_count": null,
   "metadata": {},
   "outputs": [],
   "source": []
  },
  {
   "cell_type": "code",
   "execution_count": null,
   "metadata": {},
   "outputs": [],
   "source": []
  }
 ],
 "metadata": {
  "kernelspec": {
   "display_name": "Python 3",
   "language": "python",
   "name": "python3"
  },
  "language_info": {
   "codemirror_mode": {
    "name": "ipython",
    "version": 3
   },
   "file_extension": ".py",
   "mimetype": "text/x-python",
   "name": "python",
   "nbconvert_exporter": "python",
   "pygments_lexer": "ipython3",
   "version": "3.7.4"
  }
 },
 "nbformat": 4,
 "nbformat_minor": 2
}
